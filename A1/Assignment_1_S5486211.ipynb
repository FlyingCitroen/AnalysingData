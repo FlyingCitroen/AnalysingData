{
 "cells": [
  {
   "cell_type": "markdown",
   "metadata": {
    "id": "rbgjVp6BXGCT"
   },
   "source": [
    "\n",
    "# **Assignment 1**\n",
    "\n",
    "\n",
    "## Task 1. Correlation\n",
    "We will use the data example from the textbook \"Statistical Analysis with The General Linear Model\" by Miller and Haden (2013), Chapter 11.\n",
    "\n",
    "As in Miller and Haden, we have five columns:\n",
    "\n",
    "-Participant (Participant),\n",
    "\n",
    "-Reading Ability (Abil),\n",
    "\n",
    "-Intelligence (IQ),\n",
    "\n",
    "-Number of minutes spent reading at home per week (Home),\n",
    "\n",
    "-Number of minutes spent watching TV per week (TV).\n",
    "\n",
    "\n",
    "For the task we will focus on the relationship between Reading Ability and IQ, but for further practice you can look at other relationships on your own."
   ]
  },
  {
   "cell_type": "markdown",
   "metadata": {
    "id": "Z4cXzKORYFaD"
   },
   "source": [
    "**Question 1**:\n",
    "\n",
    "a. Check whether the data is interval, ratio, or ordinal.\n",
    "\n",
    "b. Check whether there is a data point for each participant on both variables.\n",
    "\n",
    "c. Check whether the data is normally distributed in both variables.\n",
    "\n",
    "d. Create a scatter plot with Reading Ability being the x-axis and IQ, being the y-axis.\n",
    "\n",
    "e. Draw a correlation line on the scatter plot.\n",
    "\n",
    "\n",
    "**Instructions:**\n",
    "\n",
    "1. Load the necessary libraries and explain why you need them (\"#used for ...\").\n",
    "\n",
    "2. Read the MillerHadenData.csv file into a DataFrame and name it \"df_mh\"."
   ]
  },
  {
   "cell_type": "code",
   "execution_count": 2,
   "metadata": {},
   "outputs": [
    {
     "name": "stdout",
     "output_type": "stream",
     "text": [
      "Collecting pingouin\n",
      "  Obtaining dependency information for pingouin from https://files.pythonhosted.org/packages/35/2e/8ca90e7edc93bc3d3bdf6daa6d5fc5ae4882994171c3db765365227e1d58/pingouin-0.5.4-py2.py3-none-any.whl.metadata\n",
      "  Downloading pingouin-0.5.4-py2.py3-none-any.whl.metadata (1.1 kB)\n",
      "Requirement already satisfied: numpy in d:\\users\\70794\\anaconda3\\lib\\site-packages (from pingouin) (1.24.3)\n",
      "Requirement already satisfied: scipy in d:\\users\\70794\\anaconda3\\lib\\site-packages (from pingouin) (1.11.1)\n",
      "Requirement already satisfied: pandas>=1.5 in d:\\users\\70794\\anaconda3\\lib\\site-packages (from pingouin) (2.0.3)\n",
      "Requirement already satisfied: matplotlib in d:\\users\\70794\\anaconda3\\lib\\site-packages (from pingouin) (3.7.2)\n",
      "Requirement already satisfied: seaborn in d:\\users\\70794\\anaconda3\\lib\\site-packages (from pingouin) (0.12.2)\n",
      "Requirement already satisfied: statsmodels in d:\\users\\70794\\anaconda3\\lib\\site-packages (from pingouin) (0.14.0)\n",
      "Requirement already satisfied: scikit-learn in d:\\users\\70794\\anaconda3\\lib\\site-packages (from pingouin) (1.3.0)\n",
      "Collecting pandas-flavor (from pingouin)\n",
      "  Obtaining dependency information for pandas-flavor from https://files.pythonhosted.org/packages/67/1a/bfb5574b215f530c7ac5be684f33d60b299abbebd763c203aa31755f2fb2/pandas_flavor-0.6.0-py3-none-any.whl.metadata\n",
      "  Downloading pandas_flavor-0.6.0-py3-none-any.whl.metadata (6.3 kB)\n",
      "Requirement already satisfied: tabulate in d:\\users\\70794\\anaconda3\\lib\\site-packages (from pingouin) (0.8.10)\n",
      "Requirement already satisfied: python-dateutil>=2.8.2 in d:\\users\\70794\\anaconda3\\lib\\site-packages (from pandas>=1.5->pingouin) (2.8.2)\n",
      "Requirement already satisfied: pytz>=2020.1 in d:\\users\\70794\\anaconda3\\lib\\site-packages (from pandas>=1.5->pingouin) (2023.3.post1)\n",
      "Requirement already satisfied: tzdata>=2022.1 in d:\\users\\70794\\anaconda3\\lib\\site-packages (from pandas>=1.5->pingouin) (2023.3)\n",
      "Requirement already satisfied: contourpy>=1.0.1 in d:\\users\\70794\\anaconda3\\lib\\site-packages (from matplotlib->pingouin) (1.0.5)\n",
      "Requirement already satisfied: cycler>=0.10 in d:\\users\\70794\\anaconda3\\lib\\site-packages (from matplotlib->pingouin) (0.11.0)\n",
      "Requirement already satisfied: fonttools>=4.22.0 in d:\\users\\70794\\anaconda3\\lib\\site-packages (from matplotlib->pingouin) (4.25.0)\n",
      "Requirement already satisfied: kiwisolver>=1.0.1 in d:\\users\\70794\\anaconda3\\lib\\site-packages (from matplotlib->pingouin) (1.4.4)\n",
      "Requirement already satisfied: packaging>=20.0 in d:\\users\\70794\\anaconda3\\lib\\site-packages (from matplotlib->pingouin) (23.1)\n",
      "Requirement already satisfied: pillow>=6.2.0 in d:\\users\\70794\\anaconda3\\lib\\site-packages (from matplotlib->pingouin) (10.0.1)\n",
      "Requirement already satisfied: pyparsing<3.1,>=2.3.1 in d:\\users\\70794\\anaconda3\\lib\\site-packages (from matplotlib->pingouin) (3.0.9)\n",
      "Requirement already satisfied: xarray in d:\\users\\70794\\anaconda3\\lib\\site-packages (from pandas-flavor->pingouin) (2023.6.0)\n",
      "Requirement already satisfied: joblib>=1.1.1 in d:\\users\\70794\\anaconda3\\lib\\site-packages (from scikit-learn->pingouin) (1.2.0)\n",
      "Requirement already satisfied: threadpoolctl>=2.0.0 in d:\\users\\70794\\anaconda3\\lib\\site-packages (from scikit-learn->pingouin) (2.2.0)\n",
      "Requirement already satisfied: patsy>=0.5.2 in d:\\users\\70794\\anaconda3\\lib\\site-packages (from statsmodels->pingouin) (0.5.3)\n",
      "Requirement already satisfied: six in d:\\users\\70794\\anaconda3\\lib\\site-packages (from patsy>=0.5.2->statsmodels->pingouin) (1.16.0)\n",
      "Downloading pingouin-0.5.4-py2.py3-none-any.whl (198 kB)\n",
      "   ---------------------------------------- 0.0/198.9 kB ? eta -:--:--\n",
      "   ---------------------- ----------------- 112.6/198.9 kB 3.2 MB/s eta 0:00:01\n",
      "   ---------------------------------------- 198.9/198.9 kB 4.0 MB/s eta 0:00:00\n",
      "Downloading pandas_flavor-0.6.0-py3-none-any.whl (7.2 kB)\n",
      "Installing collected packages: pandas-flavor, pingouin\n",
      "Successfully installed pandas-flavor-0.6.0 pingouin-0.5.4\n"
     ]
    }
   ],
   "source": [
    "!pip install pingouin\n"
   ]
  },
  {
   "cell_type": "code",
   "execution_count": 6,
   "metadata": {
    "id": "140M8Z4qYn_G"
   },
   "outputs": [],
   "source": [
    "import pandas as pd # used for data wrangling\n",
    "import seaborn as sns # used for visualization\n",
    "import matplotlib  # used for creating a wide variety of static, animated, and interactive plots in Python. \n",
    "from matplotlib import pyplot as plt # used for plotting charts, scatter plots\n",
    "import pylab # used for conducting statistical numpy, pyplot, etc\n",
    "import pingouin as pg # used for Conducting statistical tests and calculations\n",
    "\n",
    "df_mh = pd.read_csv('C:/Users/70794/AnalysingData/A1_analysing_data/data for A1/MillerHadenData.csv')\n"
   ]
  },
  {
   "cell_type": "code",
   "execution_count": 7,
   "metadata": {
    "id": "rwqidw5q2D1n"
   },
   "outputs": [
    {
     "name": "stdout",
     "output_type": "stream",
     "text": [
      "   Participant  Abil   IQ  Home   TV\n",
      "0            1    61  107   144  487\n",
      "1            2    56  109   123  608\n",
      "2            3    45   81   108  640\n",
      "3            4    66  100   155  493\n",
      "4            5    49   92   103  636\n",
      "<class 'pandas.core.frame.DataFrame'>\n",
      "RangeIndex: 25 entries, 0 to 24\n",
      "Data columns (total 5 columns):\n",
      " #   Column       Non-Null Count  Dtype\n",
      "---  ------       --------------  -----\n",
      " 0   Participant  25 non-null     int64\n",
      " 1   Abil         25 non-null     int64\n",
      " 2   IQ           25 non-null     int64\n",
      " 3   Home         25 non-null     int64\n",
      " 4   TV           25 non-null     int64\n",
      "dtypes: int64(5)\n",
      "memory usage: 1.1 KB\n",
      "None\n"
     ]
    }
   ],
   "source": [
    "# Q1a (code):\n",
    "# Display first few rows of the dataframe\n",
    "print(df_mh.head()) # Display the first 5 rows of the df\n",
    "\n",
    "# Check data types and information\n",
    "print(df_mh.info())"
   ]
  },
  {
   "cell_type": "code",
   "execution_count": 8,
   "metadata": {
    "id": "Edd9mYgi2Jar"
   },
   "outputs": [
    {
     "name": "stdout",
     "output_type": "stream",
     "text": [
      "Empty DataFrame\n",
      "Columns: [Participant, Abil, IQ, Home, TV]\n",
      "Index: []\n",
      "Abil    0\n",
      "IQ      0\n",
      "dtype: int64\n"
     ]
    }
   ],
   "source": [
    "# Q1b (code):\n",
    "# Check for missing values\n",
    "\n",
    "missing_df = pd.DataFrame(columns=df_mh.columns) # Create a new df to save rows with missing values\n",
    "for index, row in df_mh.iterrows(): # for loop to check if there's missing value in each row\n",
    "    if row.isnull().any():\n",
    "        missing_df = missing_df.append(row, ignore_index=True) # add these rows to missing_df\n",
    "print(missing_df) # Empty df means no missing values in df_mh\n",
    "\n",
    "# Check whether there is a data point for each participant on both variables\n",
    "# pandas.isnull: https://pandas.pydata.org/pandas-docs/stable/reference/api/pandas.isnull.html\n",
    "missing_abil_iq = df_mh[['Abil', 'IQ']].isnull().sum() # Check the number of missing values\n",
    "print(missing_abil_iq)"
   ]
  },
  {
   "cell_type": "code",
   "execution_count": 9,
   "metadata": {
    "id": "3ALe0fjr2K5h"
   },
   "outputs": [
    {
     "data": {
      "text/plain": [
       "array([[<Axes: title={'center': 'Abil'}>, <Axes: title={'center': 'IQ'}>]],\n",
       "      dtype=object)"
      ]
     },
     "execution_count": 9,
     "metadata": {},
     "output_type": "execute_result"
    },
    {
     "data": {
      "image/png": "[encoded data removed]",
      "text/plain": [
       "<Figure size 640x480 with 2 Axes>"
      ]
     },
     "metadata": {},
     "output_type": "display_data"
    }
   ],
   "source": [
    "# Q1c (code):\n",
    "# Check data distribution\n",
    "df_mh.hist(['Abil','IQ'])"
   ]
  },
  {
   "cell_type": "code",
   "execution_count": 10,
   "metadata": {
    "id": "xaQ300fY2MPe"
   },
   "outputs": [
    {
     "data": {
      "image/png": "[encoded data removed]",
      "text/plain": [
       "<Figure size 640x480 with 1 Axes>"
      ]
     },
     "metadata": {},
     "output_type": "display_data"
    }
   ],
   "source": [
    "# Q1d (code):\n",
    "# Scatter plot\n",
    "sns.scatterplot(x='Abil', y='IQ', data=df_mh)\n",
    "plt.title('Scatterplot between Abil and IQ')\n",
    "plt.show()"
   ]
  },
  {
   "cell_type": "code",
   "execution_count": 11,
   "metadata": {
    "id": "Zpkwqc382N06",
    "scrolled": false
   },
   "outputs": [
    {
     "data": {
      "image/png": "[encoded data removed]",
      "text/plain": [
       "<Figure size 640x480 with 1 Axes>"
      ]
     },
     "metadata": {},
     "output_type": "display_data"
    }
   ],
   "source": [
    "# Q1e (code):\n",
    "# Correlation line\n",
    "x = df_mh['Abil']\n",
    "y = df_mh['IQ']\n",
    "\n",
    "sns.regplot(x=x, y=y, scatter_kws={'s': 10}, line_kws={'color': 'red'})\n",
    "\n",
    "plt.title('Scatterplot with Regression Line')\n",
    "plt.xlabel('Abil')\n",
    "plt.ylabel('IQ')\n",
    "\n",
    "plt.show()"
   ]
  },
  {
   "cell_type": "markdown",
   "metadata": {
    "id": "tKtW2diqZq1S"
   },
   "source": [
    "**Question 2**:\n",
    "\n",
    "a. Which correlation coefficient test can we use, Pearson or Spearman? Briefly explian why based on the results of Question 1.\n",
    "\n",
    "b. Conduct a correlation coefficient test.\n",
    "\n",
    "c. Interpret the result (direction and strength of the association between the two varibles)"
   ]
  },
  {
   "cell_type": "code",
   "execution_count": 12,
   "metadata": {
    "id": "t5GRVxHwaKIS"
   },
   "outputs": [],
   "source": [
    "# Q2a (answer with words):\n"
   ]
  },
  {
   "cell_type": "markdown",
   "metadata": {},
   "source": [
    "### Q2a\n",
    "Pearson. Because it's a normal distribution."
   ]
  },
  {
   "cell_type": "code",
   "execution_count": 13,
   "metadata": {
    "id": "LTSp6xMFaKgf"
   },
   "outputs": [
    {
     "name": "stdout",
     "output_type": "stream",
     "text": [
      "          n        r         CI95%     p-val   BF10     power\n",
      "pearson  25  0.45117  [0.07, 0.72]  0.023593  2.804  0.640299\n"
     ]
    }
   ],
   "source": [
    "# Q2b (code):\n",
    "corr_mh = pg.corr(x, y)\n",
    "print(corr_mh)"
   ]
  },
  {
   "cell_type": "code",
   "execution_count": 14,
   "metadata": {
    "id": "m_3aCSG7ylFJ"
   },
   "outputs": [],
   "source": [
    "# Q2c (answer with words):"
   ]
  },
  {
   "cell_type": "markdown",
   "metadata": {},
   "source": [
    "### Q2c\n",
    "In the 25 samples, of the two variables Abil and IQr (correlation coefficient) is 0.45117, indicating a moderate positive correlation.\n",
    "CI95% is [0.07, 0.72]. This means that we are 95% confident that the true correlation is somewhere between 0.07 and 0.72.\n",
    "p-val is 0.023593, which is less than the commonly used significance level of 0.05. This suggests that the correlation is statistically significant.\n",
    "BF10 is 2.804, suggesting some evidence in favor of the alternative hypothesis.\n",
    "Power is 0.640299, indicating a relatively high probability of correctly detecting a true correlation if it exists."
   ]
  },
  {
   "cell_type": "markdown",
   "metadata": {
    "id": "mogdaz8P27oU"
   },
   "source": [
    "## Task 2. Chi-square Test\n",
    "We will continue to use the data example from Task 1.\n",
    "\n",
    "We want to explore whether there are significant differences in the amount of time spent reading at home per week (Home) among people with different reading abilities (Reading Ability). Therefore, we will divide the reading ability of all participants into two groups. The first group is those with low reading ability (Reading Ability at or below the rounded average), and the second group is those with high reading ability (Reading Ability above the rounded average). We will store this grouping in a new column named \"Rank_Abil\".\n",
    "\n",
    "\n",
    "Similarly, the reading time is divided into two different scenarios: the first scenario is infrequent reading (Home at or below the rounded average), and the other is frequent reading (Reading Ability above the rounded average). We will store this grouping in a new column named \"Rank_Home\".\n",
    "\n",
    "\n",
    "Then, construct a Contingency Matrix and perform a Chi-square test.\n",
    "\n",
    "**Question 3**:\n",
    "\n",
    "a. Please state the null hypothesis (H0) and alternative hypothesis (H1) for this Chi-square test.\n",
    "\n",
    "b. Based on the task description, add new columns “Rank_Abil” and \"Rank_Home\" to the dataframe df_mh.\n",
    "\n",
    "c. Construct a Contingency Matrix.\n",
    "\n",
    "d. Perform a Chi-square test.\n",
    "\n",
    "e. Interpret the results of the Chi-square test (answer in text)."
   ]
  },
  {
   "cell_type": "code",
   "execution_count": 15,
   "metadata": {
    "id": "tIKHfEwG-Pte"
   },
   "outputs": [],
   "source": [
    "# Q3a (answer in words):\n"
   ]
  },
  {
   "cell_type": "markdown",
   "metadata": {},
   "source": [
    "### Q3a\n",
    "H0: There is no association between reading ability (Rank_Abil) and the amount of time spent reading at home per week (Rank_Home).\n",
    "\n",
    "H1：There is a significant association between reading ability (Rank_Abil) and the amount of time spent reading at home per week (Rank_Home). "
   ]
  },
  {
   "cell_type": "code",
   "execution_count": 16,
   "metadata": {
    "id": "nlO-hmq2-V2Z"
   },
   "outputs": [
    {
     "data": {
      "text/html": [
       "<div>\n",
       "<style scoped>\n",
       "    .dataframe tbody tr th:only-of-type {\n",
       "        vertical-align: middle;\n",
       "    }\n",
       "\n",
       "    .dataframe tbody tr th {\n",
       "        vertical-align: top;\n",
       "    }\n",
       "\n",
       "    .dataframe thead th {\n",
       "        text-align: right;\n",
       "    }\n",
       "</style>\n",
       "<table border=\"1\" class=\"dataframe\">\n",
       "  <thead>\n",
       "    <tr style=\"text-align: right;\">\n",
       "      <th></th>\n",
       "      <th>Participant</th>\n",
       "      <th>Abil</th>\n",
       "      <th>IQ</th>\n",
       "      <th>Home</th>\n",
       "      <th>TV</th>\n",
       "      <th>Rank_Abil</th>\n",
       "      <th>Rank_Home</th>\n",
       "    </tr>\n",
       "  </thead>\n",
       "  <tbody>\n",
       "    <tr>\n",
       "      <th>0</th>\n",
       "      <td>1</td>\n",
       "      <td>61</td>\n",
       "      <td>107</td>\n",
       "      <td>144</td>\n",
       "      <td>487</td>\n",
       "      <td>High</td>\n",
       "      <td>Frequent</td>\n",
       "    </tr>\n",
       "    <tr>\n",
       "      <th>1</th>\n",
       "      <td>2</td>\n",
       "      <td>56</td>\n",
       "      <td>109</td>\n",
       "      <td>123</td>\n",
       "      <td>608</td>\n",
       "      <td>High</td>\n",
       "      <td>Infrequent</td>\n",
       "    </tr>\n",
       "    <tr>\n",
       "      <th>2</th>\n",
       "      <td>3</td>\n",
       "      <td>45</td>\n",
       "      <td>81</td>\n",
       "      <td>108</td>\n",
       "      <td>640</td>\n",
       "      <td>Low</td>\n",
       "      <td>Infrequent</td>\n",
       "    </tr>\n",
       "    <tr>\n",
       "      <th>3</th>\n",
       "      <td>4</td>\n",
       "      <td>66</td>\n",
       "      <td>100</td>\n",
       "      <td>155</td>\n",
       "      <td>493</td>\n",
       "      <td>High</td>\n",
       "      <td>Frequent</td>\n",
       "    </tr>\n",
       "    <tr>\n",
       "      <th>4</th>\n",
       "      <td>5</td>\n",
       "      <td>49</td>\n",
       "      <td>92</td>\n",
       "      <td>103</td>\n",
       "      <td>636</td>\n",
       "      <td>Low</td>\n",
       "      <td>Infrequent</td>\n",
       "    </tr>\n",
       "    <tr>\n",
       "      <th>5</th>\n",
       "      <td>6</td>\n",
       "      <td>62</td>\n",
       "      <td>105</td>\n",
       "      <td>161</td>\n",
       "      <td>407</td>\n",
       "      <td>High</td>\n",
       "      <td>Frequent</td>\n",
       "    </tr>\n",
       "    <tr>\n",
       "      <th>6</th>\n",
       "      <td>7</td>\n",
       "      <td>61</td>\n",
       "      <td>92</td>\n",
       "      <td>138</td>\n",
       "      <td>463</td>\n",
       "      <td>High</td>\n",
       "      <td>Frequent</td>\n",
       "    </tr>\n",
       "    <tr>\n",
       "      <th>7</th>\n",
       "      <td>8</td>\n",
       "      <td>55</td>\n",
       "      <td>101</td>\n",
       "      <td>119</td>\n",
       "      <td>717</td>\n",
       "      <td>Low</td>\n",
       "      <td>Infrequent</td>\n",
       "    </tr>\n",
       "    <tr>\n",
       "      <th>8</th>\n",
       "      <td>9</td>\n",
       "      <td>62</td>\n",
       "      <td>118</td>\n",
       "      <td>155</td>\n",
       "      <td>643</td>\n",
       "      <td>High</td>\n",
       "      <td>Frequent</td>\n",
       "    </tr>\n",
       "    <tr>\n",
       "      <th>9</th>\n",
       "      <td>10</td>\n",
       "      <td>61</td>\n",
       "      <td>99</td>\n",
       "      <td>121</td>\n",
       "      <td>674</td>\n",
       "      <td>High</td>\n",
       "      <td>Infrequent</td>\n",
       "    </tr>\n",
       "    <tr>\n",
       "      <th>10</th>\n",
       "      <td>11</td>\n",
       "      <td>51</td>\n",
       "      <td>104</td>\n",
       "      <td>93</td>\n",
       "      <td>675</td>\n",
       "      <td>Low</td>\n",
       "      <td>Infrequent</td>\n",
       "    </tr>\n",
       "    <tr>\n",
       "      <th>11</th>\n",
       "      <td>12</td>\n",
       "      <td>48</td>\n",
       "      <td>100</td>\n",
       "      <td>127</td>\n",
       "      <td>595</td>\n",
       "      <td>Low</td>\n",
       "      <td>Frequent</td>\n",
       "    </tr>\n",
       "    <tr>\n",
       "      <th>12</th>\n",
       "      <td>13</td>\n",
       "      <td>50</td>\n",
       "      <td>95</td>\n",
       "      <td>97</td>\n",
       "      <td>673</td>\n",
       "      <td>Low</td>\n",
       "      <td>Infrequent</td>\n",
       "    </tr>\n",
       "    <tr>\n",
       "      <th>13</th>\n",
       "      <td>14</td>\n",
       "      <td>50</td>\n",
       "      <td>82</td>\n",
       "      <td>140</td>\n",
       "      <td>523</td>\n",
       "      <td>Low</td>\n",
       "      <td>Frequent</td>\n",
       "    </tr>\n",
       "    <tr>\n",
       "      <th>14</th>\n",
       "      <td>15</td>\n",
       "      <td>67</td>\n",
       "      <td>114</td>\n",
       "      <td>151</td>\n",
       "      <td>665</td>\n",
       "      <td>High</td>\n",
       "      <td>Frequent</td>\n",
       "    </tr>\n",
       "    <tr>\n",
       "      <th>15</th>\n",
       "      <td>16</td>\n",
       "      <td>51</td>\n",
       "      <td>95</td>\n",
       "      <td>112</td>\n",
       "      <td>663</td>\n",
       "      <td>Low</td>\n",
       "      <td>Infrequent</td>\n",
       "    </tr>\n",
       "    <tr>\n",
       "      <th>16</th>\n",
       "      <td>17</td>\n",
       "      <td>55</td>\n",
       "      <td>94</td>\n",
       "      <td>102</td>\n",
       "      <td>684</td>\n",
       "      <td>Low</td>\n",
       "      <td>Infrequent</td>\n",
       "    </tr>\n",
       "    <tr>\n",
       "      <th>17</th>\n",
       "      <td>18</td>\n",
       "      <td>54</td>\n",
       "      <td>103</td>\n",
       "      <td>142</td>\n",
       "      <td>505</td>\n",
       "      <td>Low</td>\n",
       "      <td>Frequent</td>\n",
       "    </tr>\n",
       "    <tr>\n",
       "      <th>18</th>\n",
       "      <td>19</td>\n",
       "      <td>57</td>\n",
       "      <td>96</td>\n",
       "      <td>127</td>\n",
       "      <td>541</td>\n",
       "      <td>High</td>\n",
       "      <td>Frequent</td>\n",
       "    </tr>\n",
       "    <tr>\n",
       "      <th>19</th>\n",
       "      <td>20</td>\n",
       "      <td>54</td>\n",
       "      <td>104</td>\n",
       "      <td>102</td>\n",
       "      <td>678</td>\n",
       "      <td>Low</td>\n",
       "      <td>Infrequent</td>\n",
       "    </tr>\n",
       "    <tr>\n",
       "      <th>20</th>\n",
       "      <td>21</td>\n",
       "      <td>52</td>\n",
       "      <td>98</td>\n",
       "      <td>124</td>\n",
       "      <td>564</td>\n",
       "      <td>Low</td>\n",
       "      <td>Infrequent</td>\n",
       "    </tr>\n",
       "    <tr>\n",
       "      <th>21</th>\n",
       "      <td>22</td>\n",
       "      <td>48</td>\n",
       "      <td>117</td>\n",
       "      <td>87</td>\n",
       "      <td>787</td>\n",
       "      <td>Low</td>\n",
       "      <td>Infrequent</td>\n",
       "    </tr>\n",
       "    <tr>\n",
       "      <th>22</th>\n",
       "      <td>23</td>\n",
       "      <td>61</td>\n",
       "      <td>100</td>\n",
       "      <td>141</td>\n",
       "      <td>582</td>\n",
       "      <td>High</td>\n",
       "      <td>Frequent</td>\n",
       "    </tr>\n",
       "    <tr>\n",
       "      <th>23</th>\n",
       "      <td>24</td>\n",
       "      <td>54</td>\n",
       "      <td>101</td>\n",
       "      <td>117</td>\n",
       "      <td>647</td>\n",
       "      <td>Low</td>\n",
       "      <td>Infrequent</td>\n",
       "    </tr>\n",
       "    <tr>\n",
       "      <th>24</th>\n",
       "      <td>25</td>\n",
       "      <td>48</td>\n",
       "      <td>94</td>\n",
       "      <td>111</td>\n",
       "      <td>448</td>\n",
       "      <td>Low</td>\n",
       "      <td>Infrequent</td>\n",
       "    </tr>\n",
       "  </tbody>\n",
       "</table>\n",
       "</div>"
      ],
      "text/plain": [
       "    Participant  Abil   IQ  Home   TV Rank_Abil   Rank_Home\n",
       "0             1    61  107   144  487      High    Frequent\n",
       "1             2    56  109   123  608      High  Infrequent\n",
       "2             3    45   81   108  640       Low  Infrequent\n",
       "3             4    66  100   155  493      High    Frequent\n",
       "4             5    49   92   103  636       Low  Infrequent\n",
       "5             6    62  105   161  407      High    Frequent\n",
       "6             7    61   92   138  463      High    Frequent\n",
       "7             8    55  101   119  717       Low  Infrequent\n",
       "8             9    62  118   155  643      High    Frequent\n",
       "9            10    61   99   121  674      High  Infrequent\n",
       "10           11    51  104    93  675       Low  Infrequent\n",
       "11           12    48  100   127  595       Low    Frequent\n",
       "12           13    50   95    97  673       Low  Infrequent\n",
       "13           14    50   82   140  523       Low    Frequent\n",
       "14           15    67  114   151  665      High    Frequent\n",
       "15           16    51   95   112  663       Low  Infrequent\n",
       "16           17    55   94   102  684       Low  Infrequent\n",
       "17           18    54  103   142  505       Low    Frequent\n",
       "18           19    57   96   127  541      High    Frequent\n",
       "19           20    54  104   102  678       Low  Infrequent\n",
       "20           21    52   98   124  564       Low  Infrequent\n",
       "21           22    48  117    87  787       Low  Infrequent\n",
       "22           23    61  100   141  582      High    Frequent\n",
       "23           24    54  101   117  647       Low  Infrequent\n",
       "24           25    48   94   111  448       Low  Infrequent"
      ]
     },
     "execution_count": 16,
     "metadata": {},
     "output_type": "execute_result"
    }
   ],
   "source": [
    "# Q3b (code):\n",
    "# Import necessary libraries\n",
    "import pandas as pd  ##used for data wrangling\n",
    "from scipy.stats import chi2_contingency ##used for determine whether there is a significant association between two categorical variables in a contingency table.\n",
    "\n",
    "# Define the rounded average for Reading Ability and Home\n",
    "rounded_avg_ability = round(df_mh['Abil'].mean())\n",
    "rounded_avg_home = round(df_mh['Home'].mean())\n",
    "# Calculation of average values\n",
    "rounded_avg_ability = int(df_mh['Abil'].mean() + 0.5)\n",
    "rounded_avg_home = int(df_mh['Home'].mean() + 0.5)\n",
    "\n",
    "# Create the Rank_Abil column\n",
    "df_mh['Rank_Abil'] = df_mh['Abil'].apply(lambda x: 'Low' if x <= rounded_avg_ability else 'High')\n",
    "\n",
    "# Create the Rank_Home column\n",
    "df_mh['Rank_Home'] = df_mh['Home'].apply(lambda x: 'Infrequent' if x <= rounded_avg_home else 'Frequent')\n",
    "\n",
    "df_mh"
   ]
  },
  {
   "cell_type": "code",
   "execution_count": 17,
   "metadata": {
    "id": "jjtp4cm4-Y36"
   },
   "outputs": [
    {
     "name": "stdout",
     "output_type": "stream",
     "text": [
      "Contingency Matrix:\n",
      "Rank_Home  Frequent  Infrequent\n",
      "Rank_Abil                      \n",
      "High              8           2\n",
      "Low               3          12\n"
     ]
    }
   ],
   "source": [
    "# Q3c (code):\n",
    "# Construct Contingency Matrix\n",
    "contingency_matrix = pd.crosstab(df_mh['Rank_Abil'], df_mh['Rank_Home'])\n",
    "print(\"Contingency Matrix:\")\n",
    "print(contingency_matrix)\n"
   ]
  },
  {
   "cell_type": "code",
   "execution_count": 18,
   "metadata": {
    "id": "gyDS8hq2-bmx",
    "scrolled": true
   },
   "outputs": [
    {
     "name": "stdout",
     "output_type": "stream",
     "text": [
      "Chi-square Statistic: 6.500270562770561\n",
      "P-value: 0.010785807794066234\n",
      "These are the expected frequencies:\n",
      "[[4.4 5.6]\n",
      " [6.6 8.4]]\n",
      "The observed differences are statistically significant - H0 is rejected\n"
     ]
    }
   ],
   "source": [
    "# Q3d (code):\n",
    "\n",
    "# Perform the Chi-square test\n",
    "chi2, p, dof, expected = chi2_contingency(contingency_matrix)\n",
    "\n",
    "# print values from chi2\n",
    "print(f\"Chi-square Statistic: {chi2}\")\n",
    "print(f\"P-value: {p}\")\n",
    "print('These are the expected frequencies:')\n",
    "print(expected)\n",
    "\n",
    "if p < 0.05:#Determine if H0 is valid by p_value\n",
    "    print(\"The observed differences are statistically significant - H0 is rejected\")\n",
    "else:\n",
    "    print(\"The observed differences are not statistically significant - H1 is rejected\")"
   ]
  },
  {
   "cell_type": "code",
   "execution_count": 19,
   "metadata": {
    "id": "fj0gW0pS-dN5"
   },
   "outputs": [],
   "source": [
    "# Q3e (answer in words):"
   ]
  },
  {
   "cell_type": "markdown",
   "metadata": {},
   "source": [
    "### Q3e\n",
    "Since the p-value is less than 0.05, we reject the null hypothesis. The differences in category distribution are statistically significant, suggesting a significant association between these variables.\n",
    "\n",
    "The Chi-square test suggests that the data distribution didn't occur by chance, indicating a relationship between the variables.\n",
    "\n",
    "Expected frequencies show what would occur without an association. \n",
    "\n",
    "Rejecting the null hypothesis means the observed differences signify a real association, not random variation."
   ]
  },
  {
   "cell_type": "markdown",
   "metadata": {
    "id": "FgYRxqqpaUIk"
   },
   "source": [
    "## Task 3. Two-sample t-test\n",
    "As we discussed on Week 3, Two-sample designs are very useful when we want to know whether there is a difference between groups on a particular variable.\n",
    "\n",
    "In this assignment, you will be guided to replicate the Experiment 4 (p. 887-888) from the paper below, focusing on understanding the data through descriptive statistics, visualizing distributions, testing assumptions (normality and variance homogeneity), and finally performing the independent t-test.\n",
    "\n",
    "Schroeder, J. and Epley, N. (2015). The sound of intellect: Speech reveals a thoughtful mind, increasing a job candidate's appeal. Psychological Science, 26, 277--891.\n",
    "\n",
    "\n",
    "As we explained during Week 3 lecture, there are different types of two-sample designs depending on whether or not the two groups are independent (e.g., different participants in different conditions) or not (e.g., same participants in different conditions). In this course we focus on independent samples, which typically means that the observations in the two groups are unrelated - usually meaning different people. But in real practice you will need to go through similar procedures to determine which is the proper statistical test to use.\n",
    "\n",
    "\n",
    "\n",
    "\n",
    "### Background of data: Speech as indicator of intellect\n",
    "To recap on Experiment 4, 39 professional recruiters from Fortune 500 companies evaluated job pitches of M.B.A. candidates (Masters in Business Administration) from the University of Chicago Booth School of Business. The methods and results appear on pages 887--889 of the article if you want to look at them specifically for more details."
   ]
  },
  {
   "cell_type": "markdown",
   "metadata": {
    "id": "vIc57Glgn5Bb"
   },
   "source": [
    "### Step 1: Analyze the demographics of evaluators from the provided dataset\n",
    "\n",
    "**Instructions:**\n",
    "\n",
    "1. Load the necessary libraries (pandas, scipy, numpy, matplotlib.pyplot, seaborn) and explain why you need them (\"#used for ...\").\n",
    "\n",
    "2. Read the evaluators.csv file into a DataFrame.\n",
    "\n",
    "3. Calculate the mean and standard deviation of the age of the evaluators, handling missing values appropriately.\n",
    "\n",
    "4. Count how many male and female evaluators were in the study.\n",
    "\n",
    "**Question 4:**\n",
    "\n",
    "a. What was the mean age of the evaluators?\n",
    "What was the standard deviation of the age of the evaluators?\n",
    "\n",
    "b. How many participants were female and how many participants were male?\n"
   ]
  },
  {
   "cell_type": "code",
   "execution_count": 20,
   "metadata": {
    "id": "RgnTye-yojyH"
   },
   "outputs": [
    {
     "data": {
      "text/html": [
       "<div>\n",
       "<style scoped>\n",
       "    .dataframe tbody tr th:only-of-type {\n",
       "        vertical-align: middle;\n",
       "    }\n",
       "\n",
       "    .dataframe tbody tr th {\n",
       "        vertical-align: top;\n",
       "    }\n",
       "\n",
       "    .dataframe thead th {\n",
       "        text-align: right;\n",
       "    }\n",
       "</style>\n",
       "<table border=\"1\" class=\"dataframe\">\n",
       "  <thead>\n",
       "    <tr style=\"text-align: right;\">\n",
       "      <th></th>\n",
       "      <th>eval_id</th>\n",
       "      <th>condition</th>\n",
       "      <th>age</th>\n",
       "      <th>sex</th>\n",
       "    </tr>\n",
       "  </thead>\n",
       "  <tbody>\n",
       "    <tr>\n",
       "      <th>0</th>\n",
       "      <td>1</td>\n",
       "      <td>listened</td>\n",
       "      <td>29.0</td>\n",
       "      <td>2.0</td>\n",
       "    </tr>\n",
       "    <tr>\n",
       "      <th>1</th>\n",
       "      <td>2</td>\n",
       "      <td>listened</td>\n",
       "      <td>27.0</td>\n",
       "      <td>2.0</td>\n",
       "    </tr>\n",
       "    <tr>\n",
       "      <th>2</th>\n",
       "      <td>3</td>\n",
       "      <td>listened</td>\n",
       "      <td>27.0</td>\n",
       "      <td>2.0</td>\n",
       "    </tr>\n",
       "    <tr>\n",
       "      <th>3</th>\n",
       "      <td>4</td>\n",
       "      <td>read</td>\n",
       "      <td>40.0</td>\n",
       "      <td>2.0</td>\n",
       "    </tr>\n",
       "    <tr>\n",
       "      <th>4</th>\n",
       "      <td>5</td>\n",
       "      <td>read</td>\n",
       "      <td>32.0</td>\n",
       "      <td>2.0</td>\n",
       "    </tr>\n",
       "  </tbody>\n",
       "</table>\n",
       "</div>"
      ],
      "text/plain": [
       "   eval_id condition   age  sex\n",
       "0        1  listened  29.0  2.0\n",
       "1        2  listened  27.0  2.0\n",
       "2        3  listened  27.0  2.0\n",
       "3        4      read  40.0  2.0\n",
       "4        5      read  32.0  2.0"
      ]
     },
     "execution_count": 20,
     "metadata": {},
     "output_type": "execute_result"
    }
   ],
   "source": [
    "\n",
    "import pandas as pd # used for data manipulation and analysis\n",
    "from scipy import stats # statistical functions, hypothesis testing, probability distributions, and various statistical tests\n",
    "import numpy as np # Numerical operations and array manipulations.\n",
    "import matplotlib.pyplot as plt # Plotting library for creating static, animated, and interactive visualizations\n",
    "import seaborn as sns # Statistical data visualization based on Matplotlib\n",
    "\n",
    "# Load the data\n",
    "df_evaluators = pd.read_csv('C:/Users/70794/AnalysingData/A1_analysing_data/data for A1/evaluators.csv')\n",
    "df_evaluators.head()\n"
   ]
  },
  {
   "cell_type": "code",
   "execution_count": 21,
   "metadata": {},
   "outputs": [
    {
     "data": {
      "text/html": [
       "<div>\n",
       "<style scoped>\n",
       "    .dataframe tbody tr th:only-of-type {\n",
       "        vertical-align: middle;\n",
       "    }\n",
       "\n",
       "    .dataframe tbody tr th {\n",
       "        vertical-align: top;\n",
       "    }\n",
       "\n",
       "    .dataframe thead th {\n",
       "        text-align: right;\n",
       "    }\n",
       "</style>\n",
       "<table border=\"1\" class=\"dataframe\">\n",
       "  <thead>\n",
       "    <tr style=\"text-align: right;\">\n",
       "      <th></th>\n",
       "      <th>eval_id</th>\n",
       "      <th>age</th>\n",
       "      <th>sex</th>\n",
       "    </tr>\n",
       "  </thead>\n",
       "  <tbody>\n",
       "    <tr>\n",
       "      <th>count</th>\n",
       "      <td>39.000000</td>\n",
       "      <td>34.000000</td>\n",
       "      <td>34.000000</td>\n",
       "    </tr>\n",
       "    <tr>\n",
       "      <th>mean</th>\n",
       "      <td>20.000000</td>\n",
       "      <td>30.852941</td>\n",
       "      <td>1.882353</td>\n",
       "    </tr>\n",
       "    <tr>\n",
       "      <th>std</th>\n",
       "      <td>11.401754</td>\n",
       "      <td>6.238358</td>\n",
       "      <td>0.327035</td>\n",
       "    </tr>\n",
       "    <tr>\n",
       "      <th>min</th>\n",
       "      <td>1.000000</td>\n",
       "      <td>23.000000</td>\n",
       "      <td>1.000000</td>\n",
       "    </tr>\n",
       "    <tr>\n",
       "      <th>25%</th>\n",
       "      <td>10.500000</td>\n",
       "      <td>27.000000</td>\n",
       "      <td>2.000000</td>\n",
       "    </tr>\n",
       "    <tr>\n",
       "      <th>50%</th>\n",
       "      <td>20.000000</td>\n",
       "      <td>29.000000</td>\n",
       "      <td>2.000000</td>\n",
       "    </tr>\n",
       "    <tr>\n",
       "      <th>75%</th>\n",
       "      <td>29.500000</td>\n",
       "      <td>32.750000</td>\n",
       "      <td>2.000000</td>\n",
       "    </tr>\n",
       "    <tr>\n",
       "      <th>max</th>\n",
       "      <td>39.000000</td>\n",
       "      <td>48.000000</td>\n",
       "      <td>2.000000</td>\n",
       "    </tr>\n",
       "  </tbody>\n",
       "</table>\n",
       "</div>"
      ],
      "text/plain": [
       "         eval_id        age        sex\n",
       "count  39.000000  34.000000  34.000000\n",
       "mean   20.000000  30.852941   1.882353\n",
       "std    11.401754   6.238358   0.327035\n",
       "min     1.000000  23.000000   1.000000\n",
       "25%    10.500000  27.000000   2.000000\n",
       "50%    20.000000  29.000000   2.000000\n",
       "75%    29.500000  32.750000   2.000000\n",
       "max    39.000000  48.000000   2.000000"
      ]
     },
     "execution_count": 21,
     "metadata": {},
     "output_type": "execute_result"
    }
   ],
   "source": [
    "df_evaluators.describe()"
   ]
  },
  {
   "cell_type": "code",
   "execution_count": 22,
   "metadata": {
    "id": "eDw0XnX3BRhe"
   },
   "outputs": [
    {
     "name": "stdout",
     "output_type": "stream",
     "text": [
      "mean age: 30.852941176470587\n",
      "standard deviation of age: 6.238358141327351\n"
     ]
    }
   ],
   "source": [
    "# Q4a (code):\n",
    "# Calculate mean and standard deviation for age\n",
    "mean_age = df_evaluators['age'].mean()\n",
    "df_evaluators_desc = df_evaluators['age'].describe()\n",
    "# read std from .describe()\n",
    "std_dev_age = df_evaluators_desc['std']\n",
    "print(f\"mean age: {mean_age}\")\n",
    "print(f\"standard deviation of age: {std_dev_age}\")"
   ]
  },
  {
   "cell_type": "code",
   "execution_count": 23,
   "metadata": {
    "id": "I0tU57R5ufRI"
   },
   "outputs": [
    {
     "data": {
      "text/html": [
       "<div>\n",
       "<style scoped>\n",
       "    .dataframe tbody tr th:only-of-type {\n",
       "        vertical-align: middle;\n",
       "    }\n",
       "\n",
       "    .dataframe tbody tr th {\n",
       "        vertical-align: top;\n",
       "    }\n",
       "\n",
       "    .dataframe thead th {\n",
       "        text-align: right;\n",
       "    }\n",
       "</style>\n",
       "<table border=\"1\" class=\"dataframe\">\n",
       "  <thead>\n",
       "    <tr style=\"text-align: right;\">\n",
       "      <th></th>\n",
       "      <th>Sex</th>\n",
       "      <th>Count</th>\n",
       "    </tr>\n",
       "  </thead>\n",
       "  <tbody>\n",
       "    <tr>\n",
       "      <th>0</th>\n",
       "      <td>Male</td>\n",
       "      <td>4</td>\n",
       "    </tr>\n",
       "    <tr>\n",
       "      <th>1</th>\n",
       "      <td>Female</td>\n",
       "      <td>30</td>\n",
       "    </tr>\n",
       "  </tbody>\n",
       "</table>\n",
       "</div>"
      ],
      "text/plain": [
       "      Sex  Count\n",
       "0    Male      4\n",
       "1  Female     30"
      ]
     },
     "execution_count": 23,
     "metadata": {},
     "output_type": "execute_result"
    }
   ],
   "source": [
    "# Q4b (code)\n",
    "# Count male and female evaluators\n",
    "# In the 'sex' column: 1 represents males and 2 represents females\n",
    "# change 1 & 2 to male & female\n",
    "df_evaluators_sex = df_evaluators['sex'].replace({1: 'Male', 2: 'Female'})\n",
    "male_count = len(df_evaluators_sex[df_evaluators_sex == 'Male'])\n",
    "female_count = len(df_evaluators_sex[df_evaluators_sex == 'Female'])\n",
    "# Combined the results and create a dataframe\n",
    "sex_counts = pd.DataFrame({'Sex': ['Male', 'Female'], 'Count': [male_count, female_count]})\n",
    "\n",
    "# Display the counts with updated labels\n",
    "sex_counts"
   ]
  },
  {
   "cell_type": "markdown",
   "metadata": {
    "id": "KK-MdZfdpDI3"
   },
   "source": [
    "### Step 2: Calculate overall intellect ratings from evaluators and prepare a combined dataset for analysis\n",
    "\n",
    "We are now going to calculate an overall intellect rating given by each evaluator. To break that down a bit, we are going to calculate how intellectual the evaluators (the raters) thought candidates were overall, depending on whether the evaluators read or listened to the candidates' resume pitches. This is calculated by averaging the ratings of competent, thoughtful and intelligent for each evaluator held within ratings.csv.\n",
    "\n",
    "Note: We are not looking at ratings to individual candidates; we are looking at overall ratings for each evaluator. This is a bit confusing but makes sense if you stop to think about it a little. You can think about it in terms of \"do raters rate differently depending on whether they read or listen to a resume pitch\".\n",
    "We will then combine the overall intellect rating with the overall impression ratings and overall hire ratings for each evaluator, all ready found in ratings.csv. In the end we will have a new new dataframe named \"ratings2\" - which has the below structure:\n",
    "\n",
    "**eval_id** shows the evaluator ID. Each evaluator has a different ID. So all the 1's are the same evaluator.\n",
    "\n",
    "**Category** shows the scale that they were rating on - intellect, hire, impression\n",
    "\n",
    "**Rating** shows the overall rating given by that evaluator on a given scale.\n",
    "\n",
    "**condition** shows whether that evaluator listened to (e.g., evaluators 1, 2 and 3), or read (e.g., evaluator 4) the resume.\n",
    "\n",
    "\n",
    "**Instructions:**\n",
    "\n",
    "1. Load the ratings.csv file.\n",
    "\n",
    "2. Filter and calculate the mean intellect rating for each evaluator.\n",
    "\n",
    "3. Combine this with overall impression and hire ratings to create a new DataFrame named \"rating2\".\n",
    "\n",
    "4. Merge this DataFrame with the evaluator demographics.\n",
    "\n",
    "**Question 5**:\n",
    "\n",
    "Print the head of \"rating2\".\n"
   ]
  },
  {
   "cell_type": "code",
   "execution_count": 24,
   "metadata": {
    "id": "l85NzSC-pj57"
   },
   "outputs": [
    {
     "data": {
      "text/html": [
       "<div>\n",
       "<style scoped>\n",
       "    .dataframe tbody tr th:only-of-type {\n",
       "        vertical-align: middle;\n",
       "    }\n",
       "\n",
       "    .dataframe tbody tr th {\n",
       "        vertical-align: top;\n",
       "    }\n",
       "\n",
       "    .dataframe thead th {\n",
       "        text-align: right;\n",
       "    }\n",
       "</style>\n",
       "<table border=\"1\" class=\"dataframe\">\n",
       "  <thead>\n",
       "    <tr style=\"text-align: right;\">\n",
       "      <th></th>\n",
       "      <th>eval_id</th>\n",
       "      <th>Category</th>\n",
       "      <th>Rating</th>\n",
       "    </tr>\n",
       "  </thead>\n",
       "  <tbody>\n",
       "    <tr>\n",
       "      <th>0</th>\n",
       "      <td>1</td>\n",
       "      <td>competent</td>\n",
       "      <td>6.0</td>\n",
       "    </tr>\n",
       "    <tr>\n",
       "      <th>1</th>\n",
       "      <td>1</td>\n",
       "      <td>thoughtful</td>\n",
       "      <td>6.0</td>\n",
       "    </tr>\n",
       "    <tr>\n",
       "      <th>2</th>\n",
       "      <td>1</td>\n",
       "      <td>intelligent</td>\n",
       "      <td>6.0</td>\n",
       "    </tr>\n",
       "    <tr>\n",
       "      <th>3</th>\n",
       "      <td>1</td>\n",
       "      <td>impression</td>\n",
       "      <td>7.0</td>\n",
       "    </tr>\n",
       "    <tr>\n",
       "      <th>4</th>\n",
       "      <td>1</td>\n",
       "      <td>hire</td>\n",
       "      <td>6.0</td>\n",
       "    </tr>\n",
       "  </tbody>\n",
       "</table>\n",
       "</div>"
      ],
      "text/plain": [
       "   eval_id     Category  Rating\n",
       "0        1    competent     6.0\n",
       "1        1   thoughtful     6.0\n",
       "2        1  intelligent     6.0\n",
       "3        1   impression     7.0\n",
       "4        1         hire     6.0"
      ]
     },
     "execution_count": 24,
     "metadata": {},
     "output_type": "execute_result"
    }
   ],
   "source": [
    "# Load ratings data\n",
    "df_ratings = pd.read_csv('C:/Users/70794/AnalysingData/A1_analysing_data/data for A1/ratings.csv')\n",
    "df_ratings.head()\n"
   ]
  },
  {
   "cell_type": "code",
   "execution_count": 25,
   "metadata": {
    "id": "5dxtVUSMBZwf"
   },
   "outputs": [
    {
     "data": {
      "text/html": [
       "<div>\n",
       "<style scoped>\n",
       "    .dataframe tbody tr th:only-of-type {\n",
       "        vertical-align: middle;\n",
       "    }\n",
       "\n",
       "    .dataframe tbody tr th {\n",
       "        vertical-align: top;\n",
       "    }\n",
       "\n",
       "    .dataframe thead th {\n",
       "        text-align: right;\n",
       "    }\n",
       "</style>\n",
       "<table border=\"1\" class=\"dataframe\">\n",
       "  <thead>\n",
       "    <tr style=\"text-align: right;\">\n",
       "      <th></th>\n",
       "      <th>eval_id</th>\n",
       "      <th>Category</th>\n",
       "      <th>Rating</th>\n",
       "      <th>condition</th>\n",
       "    </tr>\n",
       "  </thead>\n",
       "  <tbody>\n",
       "    <tr>\n",
       "      <th>0</th>\n",
       "      <td>1</td>\n",
       "      <td>hire</td>\n",
       "      <td>6.000000</td>\n",
       "      <td>listened</td>\n",
       "    </tr>\n",
       "    <tr>\n",
       "      <th>1</th>\n",
       "      <td>1</td>\n",
       "      <td>impression</td>\n",
       "      <td>7.000000</td>\n",
       "      <td>listened</td>\n",
       "    </tr>\n",
       "    <tr>\n",
       "      <th>2</th>\n",
       "      <td>1</td>\n",
       "      <td>intellect</td>\n",
       "      <td>6.000000</td>\n",
       "      <td>listened</td>\n",
       "    </tr>\n",
       "    <tr>\n",
       "      <th>3</th>\n",
       "      <td>2</td>\n",
       "      <td>hire</td>\n",
       "      <td>4.000000</td>\n",
       "      <td>listened</td>\n",
       "    </tr>\n",
       "    <tr>\n",
       "      <th>4</th>\n",
       "      <td>2</td>\n",
       "      <td>impression</td>\n",
       "      <td>4.666667</td>\n",
       "      <td>listened</td>\n",
       "    </tr>\n",
       "  </tbody>\n",
       "</table>\n",
       "</div>"
      ],
      "text/plain": [
       "   eval_id    Category    Rating condition\n",
       "0        1        hire  6.000000  listened\n",
       "1        1  impression  7.000000  listened\n",
       "2        1   intellect  6.000000  listened\n",
       "3        2        hire  4.000000  listened\n",
       "4        2  impression  4.666667  listened"
      ]
     },
     "execution_count": 25,
     "metadata": {},
     "output_type": "execute_result"
    }
   ],
   "source": [
    "# Q5 (code):\n",
    "# Filter the ratings DataFrame to include only 'thoughtful', 'competent', and 'intelligent' categories\n",
    "filtered_ratings = df_ratings[df_ratings['Category'].isin(['thoughtful', 'competent', 'intelligent'])]\n",
    "\n",
    "# Calculate the mean intellect rating for each evaluator\n",
    "# Group by 'eval_id' and calculate mean, then reset the index to convert groupby object back to DataFrame\n",
    "intellect_mean = filtered_ratings.groupby('eval_id')['Rating'].mean().reset_index()\n",
    "\n",
    "# Add a 'Category' column with the value 'intellect' for these rows\n",
    "intellect_mean['Category'] = 'intellect'\n",
    "\n",
    "# Create a DataFrame for 'impression' and 'hire' ratings\n",
    "other_ratings = df_ratings[df_ratings['Category'].isin(['impression', 'hire'])].reset_index()\n",
    "\n",
    "# Combine the DataFrames to create 'ratings2'\n",
    "# Concatenate the 'intellect_mean' DataFrame with the 'other_ratings' DataFrame\n",
    "ratings2 = pd.concat([intellect_mean, other_ratings])\n",
    "\n",
    "# Join 'ratings2' with the 'df_evaluators' DataFrame to add the 'condition' column\n",
    "ratings2 = pd.merge(ratings2, df_evaluators[['eval_id', 'condition']], on='eval_id', how='left')\n",
    "\n",
    "# Select only the necessary columns as per the structure required\n",
    "ratings2 = ratings2[['eval_id', 'Category', 'Rating', 'condition']]\n",
    "\n",
    "# Arrange by 'eval_id' and 'Category'\n",
    "ratings2 = ratings2.sort_values(by=['eval_id', 'Category']).reset_index(drop=True)\n",
    "\n",
    "# Display the first few rows of the final 'ratings2' DataFrame to verify\n",
    "ratings2.head()"
   ]
  },
  {
   "cell_type": "markdown",
   "metadata": {
    "id": "fOmtKCzEpoOa"
   },
   "source": [
    "### Step 3: Perform descriptive and inferential statistical analyses, including testing assumptions and conducting independent t-tests.\n",
    "\n",
    "We are going to run the t-tests for Intellect, Hire and Impression; each time comparing evaluators overall ratings for the listened group versus overall ratings for the read group to see if there was a significant difference between the two conditions: i.e., did the evaluators who listened to pitches give a significant higher or lower rating than evaluators that read pitches?\n",
    "\n",
    "**Question 6**:\n",
    "\n",
    "a. In terms of hypotheses, how can we phrase the hypothesis?\n",
    "\n",
    "b. Which t-test should we choose, one-tail or two-tail? And explian why.\n",
    "\n",
    "c. What are the independent variable and the dependent variable here?\n",
    "\n"
   ]
  },
  {
   "cell_type": "code",
   "execution_count": 26,
   "metadata": {
    "id": "duti45rG22eS"
   },
   "outputs": [],
   "source": [
    "# Q6a (answer in words):\n",
    "# Null hypothesis:\n",
    "\n",
    "# Alternative hypothesis:\n",
    "\n",
    "# we could phrase the null hypothesis for these tests as there is no significant difference between overall ratings on the {insert trait} scale between evaluators who listened to resume pitches and evaluators who read the resume pitches (H0:μ1=μ2). Alternatively, we could state it as there will be a significant difference between overall ratings on the {insert trait} scale between evaluators who listened to resume pitches and evaluators who read the resume pitches (H1:μ1≠μ2)."
   ]
  },
  {
   "cell_type": "markdown",
   "metadata": {},
   "source": [
    "### Q6a\n",
    "Null Hypothesis (H0):\n",
    "\n",
    "There is no significant difference between overall ratings between evaluators who listened to resume pitches (μ1) and evaluators who read the resume pitches (μ2).\n",
    "\n",
    "Alternative Hypothesis (H1):\n",
    "\n",
    "Alternatively, there will be a significant difference between overall ratings between evaluators who listened to resume pitches (μ1) and evaluators who read the resume pitches (μ2)."
   ]
  },
  {
   "cell_type": "code",
   "execution_count": 27,
   "metadata": {
    "id": "EkoM_0js3fyS"
   },
   "outputs": [],
   "source": [
    "# Q6b (answer in words):\n",
    "# Which t-test should we choose, one-tail or two-tail? Explian why."
   ]
  },
  {
   "cell_type": "markdown",
   "metadata": {},
   "source": [
    "### Q6b\n",
    "\n",
    "Which t-test should we choose, one-tail or two-tail? Explian why.\n",
    "\n",
    "two-tail, the alternative hypothesis is non-directional."
   ]
  },
  {
   "cell_type": "code",
   "execution_count": 28,
   "metadata": {
    "id": "073zOlIsI5ws"
   },
   "outputs": [],
   "source": [
    "# Q6c (answer in words):\n",
    "# What are the independent variable and the dependent variable here?"
   ]
  },
  {
   "cell_type": "markdown",
   "metadata": {},
   "source": [
    "### Q6c\n",
    "What are the independent variable and the dependent variable here?\n",
    "\n",
    "independent variable: Category. Dependent variable: Rating"
   ]
  },
  {
   "cell_type": "markdown",
   "metadata": {
    "id": "4g-SpuDX23iL"
   },
   "source": [
    "\n",
    "To clarify, we are going to run three between-subjects t-tests in total; one for intellect ratings; one for hire ratings; one for impression ratings.\n",
    "\n",
    "**Instructions:**\n",
    "\n",
    "1. Descriptive analysis of the ratings.\n",
    "\n",
    "2. Test for normal distribution (Shapiro-Wilk test) and homogeneity of variances (Levene's test) for the intellect, impression, and hire ratings.\n",
    "\n",
    "3. Conduct independent t-tests comparing intellect, impression, and hire ratings between conditions (listened vs. read).\n",
    "\n",
    "Hints: three T-tests need to be performed.\n",
    "\n",
    "**Question 7**:\n",
    "\n",
    "a: Print the test results.\n",
    "\n",
    "b: Interpret the results of the above descriptive statistics, Shapiro-Wilk test, Levene's test, and independent t-tests. Explian why we use these tests and how we made our decisions based on the test result."
   ]
  },
  {
   "cell_type": "code",
   "execution_count": 29,
   "metadata": {
    "id": "QD3ZZRrAq4Gc",
    "scrolled": false
   },
   "outputs": [
    {
     "name": "stdout",
     "output_type": "stream",
     "text": [
      "Rating Description: \n",
      "                      count      mean       std       min       25%       50%  \\\n",
      "Category   condition                                                            \n",
      "hire       listened    21.0  4.714286  2.261479  0.000000  4.000000  5.000000   \n",
      "           read        18.0  2.888889  2.054805  0.000000  1.250000  2.000000   \n",
      "impression listened    21.0  5.968254  1.917477  2.333333  4.666667  6.666667   \n",
      "           read        18.0  4.074074  2.233306  0.333333  2.166667  4.500000   \n",
      "intellect  listened    21.0  5.634921  1.608674  2.333333  5.000000  5.666667   \n",
      "           read        18.0  3.648148  1.911343  0.666667  2.083333  3.666667   \n",
      "\n",
      "                           75%       max  \n",
      "Category   condition                      \n",
      "hire       listened   7.000000  8.000000  \n",
      "           read       4.000000  7.000000  \n",
      "impression listened   7.333333  8.666667  \n",
      "           read       5.333333  7.333333  \n",
      "intellect  listened   6.000000  9.000000  \n",
      "           read       4.666667  7.000000  \n",
      "Shapiro Results:\n",
      "     Variable  Shapiro_p_value\n",
      "0   intellect         0.518267\n",
      "1  impression         0.172387\n",
      "2        hire         0.047104\n",
      "Levene Results: \n",
      "                 Comparison  Levene_p_value\n",
      "0           impression_hire        0.791976\n",
      "1      impression_intellect        0.354986\n",
      "2            hire_intellect        0.234238\n",
      "3  impression listened read        0.535896\n",
      "4        hire listened read        0.745845\n",
      "5   intellect listened read        0.349462\n",
      "T-Test Results: \n",
      "     Variable  TTest_p_value\n",
      "0   intellect       0.001144\n",
      "1  impression       0.007091\n",
      "2        hire       0.012675\n"
     ]
    }
   ],
   "source": [
    "##Q7a (code):\n",
    "from scipy.stats import shapiro, levene, ttest_ind # used for specific statistical tests\n",
    "\n",
    "# Descriptive analysis of the ratings\n",
    "ratings_desc = ratings2.groupby(['Category', 'condition'])['Rating'].describe()\n",
    "\n",
    "# Create df which group by Category\n",
    "sub_df = ratings2.groupby(\"Category\")\n",
    "# Create seperate df for all 3 categories\n",
    "impression = sub_df.get_group(\"impression\")\n",
    "hire = sub_df.get_group(\"hire\")\n",
    "intellect = sub_df.get_group(\"intellect\")\n",
    "\n",
    "# Create df for 2 conditions (listened and read) in 3 categories\n",
    "#intellect\n",
    "intellect_listen = intellect[(intellect['Category'] == 'intellect') & (intellect['condition'] == 'listened')]\n",
    "intellect_read = intellect[(intellect['Category'] == 'intellect') & (intellect['condition'] == 'read')]\n",
    "#hire\n",
    "hire_listen = ratings2[(ratings2['Category'] == 'hire') & (ratings2['condition'] == 'listened')]\n",
    "hire_read = ratings2[(ratings2['Category'] == 'hire') & (ratings2['condition'] == 'read')]\n",
    "#impression\n",
    "impression_listen = impression[(impression['Category'] == 'impression') & (impression['condition'] == 'listened')]\n",
    "impression_read = impression[(impression['Category'] == 'impression') & (impression['condition'] == 'read')]\n",
    "\n",
    "# Test for normal distribution (Shapiro-Wilk test)\n",
    "score_shapiro_impression, p_val_shapiro_impression = stats.shapiro(impression['Rating'])\n",
    "score_shapiro_hire, p_val_shapiro_hire = stats.shapiro(hire['Rating'])\n",
    "score_shapiro_intellect, p_val_shapiro_intellect = stats.shapiro(intellect['Rating'])\n",
    "\n",
    "# Test for homogeneity of variances (Levene's test)\n",
    "# Test for impression & hire\n",
    "score_levene_impression_hire, p_val_levene_impression_hire = stats.levene(impression['Rating'], hire['Rating'])\n",
    "# Test for impression & intellct\n",
    "score_levene_impression_intellect, p_val_levene_impression_intellect = stats.levene(impression['Rating'], intellect['Rating'])\n",
    "# Test for hire & intellct\n",
    "score_levene_hire_intellect, p_val_levene_hire_intellect = stats.levene(hire['Rating'], intellect['Rating'])\n",
    "# Test for impression, listen & read\n",
    "score_levene_impression_l_r, p_val_levene_impression_l_r = stats.levene(impression_listen['Rating'], impression_read['Rating'])\n",
    "# Test for hire, listen & read\n",
    "score_levene_hire_l_r, p_val_levene_hire_l_r = stats.levene(hire_listen['Rating'], hire_read['Rating'])\n",
    "# Test for intellect, listen & read\n",
    "score_levene_intellect_l_r, p_val_levene_intellect_l_r = stats.levene(intellect_listen['Rating'], intellect_read['Rating'])\n",
    "\n",
    "# Independent t-tests\n",
    "# Test for impression, listen & read\n",
    "ttest_score_impression, p_val_impression = stats.ttest_ind(impression_listen['Rating'], impression_read['Rating'])\n",
    "# Test for hire, listen & read\n",
    "ttest_score_hire, p_val_hire = stats.ttest_ind(hire_listen['Rating'], hire_read['Rating'])\n",
    "# Test for intellect, listen & read\n",
    "ttest_score_intellect, p_val_intellect = stats.ttest_ind(intellect_listen['Rating'], intellect_read['Rating'])\n",
    "\n",
    "# Create a dictionary to save the results of all the test\n",
    "shapiro_results = {'intellect': p_val_shapiro_intellect, 'impression': p_val_shapiro_impression, 'hire': p_val_shapiro_hire}\n",
    "levene_results = {'impression_hire': p_val_levene_impression_hire, 'impression_intellect': p_val_levene_impression_intellect,\n",
    "                  'hire_intellect': p_val_levene_hire_intellect,'impression listened read':p_val_levene_impression_l_r,\n",
    "                  'hire listened read':p_val_levene_hire_l_r,'intellect listened read':p_val_levene_intellect_l_r}\n",
    "ttest_results = {'intellect': p_val_intellect, 'impression': p_val_impression, 'hire': p_val_hire}\n",
    "\n",
    "# Transfer to df\n",
    "shapiro_results = pd.DataFrame(list(shapiro_results.items()), columns=['Variable', 'Shapiro_p_value'])\n",
    "levene_results = pd.DataFrame(list(levene_results.items()), columns=['Comparison', 'Levene_p_value'])\n",
    "ttest_results = pd.DataFrame(list(ttest_results.items()), columns=['Variable', 'TTest_p_value'])\n",
    "\n",
    "# print results\n",
    "print(f'Rating Description: \\n{ratings_desc}')\n",
    "\n",
    "print(f'Shapiro Results:\\n{shapiro_results}')\n",
    "\n",
    "print(f'Levene Results: \\n{levene_results}')\n",
    "\n",
    "print(f'T-Test Results: \\n{ttest_results}')\n"
   ]
  },
  {
   "cell_type": "code",
   "execution_count": 30,
   "metadata": {
    "id": "aifm_T8UQwYm"
   },
   "outputs": [],
   "source": [
    "#Q7b (answer in words):\n"
   ]
  },
  {
   "cell_type": "markdown",
   "metadata": {},
   "source": [
    "### Q7b\n",
    "### descriptive statistics\n",
    "For the \"listened\" condition under the category \"hire\", there are 21 observations. The mean is 4.71, the standard deviation is 2.26, the minimum value is 0, the 25% quartile is 4, the median is 5, the 75% quartile is 7, and the maximum value is 8.\n",
    "\n",
    "For the \"read\" condition under the \"hire\" category, there were 18 observations. The mean is 2.89, the standard deviation is 2.05, the minimum value is 0, the 25% quartile is 1.25, the median is 2, the 75% quartile is 4, and the maximum is 7.\n",
    "\n",
    "For the \"listened\" condition under the \"expression\" category, there were 21 observations. The mean is 5.97, the standard deviation is 1.92, the minimum value is 2.33, the 25% quartile is 4.67, the median is 6.67, the 75% quartile is 7.33, and the maximum value is 8.67.\n",
    "\n",
    "For the \"read\" condition under the \"expression\" category, there were 18 observations. The mean was 4.07, the standard deviation was 2.23, the minimum value was 0.33, the 25% quartile was 2.17, the median was 4.5, the 75% quartile was 5.33, and the maximum value was 7.33.\n",
    "\n",
    "For the \"listened\" condition under the \"intellect\" category, there were 21 observations. The mean was 5.63, the standard deviation was 1.61, the minimum value was 2.33, the 25% quartile was 5, the median was 5.67, the 75% quartile was 6, and the maximum value was 9.\n",
    "\n",
    "For the \"read\" condition under the category \"intellect\", there were 18 observations. The mean was 3.65, the standard deviation 1.91, the minimum value 0.67, the 25% quartile 2.08, the median 3.67, the 75% quartile 4.67, and the maximum value 7.\n",
    "\n",
    "### Shapiro-Wilk test\n",
    "For the variable \"intellect\", the Shapiro-Wilk test has a p-value of 0.518267, which is relatively large, indicating that we do not have enough evidence to reject that the data for \"intellect\" are not from a normal distribution.\n",
    "\n",
    "For the variable \"expression\", the Shapiro-Wilk test has a p-value of 0.172387, which is also large, indicating that we do not have enough evidence to reject that the data for \"expression\" are not from a normal distribution.\n",
    "\n",
    "For the variable \"hire\", the Shapiro-Wilk test has a p-value of 0.047104, which is small and may be below the commonly chosen significance level (e.g. 0.05). Therefore, we may have enough evidence to reject the data for \"hire\" as coming from a normal distribution.\n",
    "\n",
    "### Levene's test\n",
    "The comparison between \"impression\" and \"hire\" groups has a Levene p-value of 0.791976, indicating that there is not enough evidence to reject the hypothesis that the variances of these groups are equal.\n",
    "\n",
    "The comparison between \"impression\" and \"intellect\" groups has a Levene p-value of 0.354986, suggesting that we don't have enough evidence to reject the hypothesis of equal variances.\n",
    "\n",
    "The comparison between \"hire\" and \"intellect\" groups has a Levene p-value of 0.234238, indicating that there is not enough evidence to reject the hypothesis that the variances are different between \"hire\" and \"intellect.\"\n",
    "\n",
    "The comparison \"impression listened read\" has a Levene p-value of 0.535896, suggesting that there is not enough evidence to reject the hypothesis that the variances of the \"impression listened\" and \"impression read\" groups are different.\n",
    "\n",
    "The comparison \"hire listened read\" has a Levene p-value of 0.745845, indicating that we don't have enough evidence to reject the hypothesis that the variances of the \"hire listened\" and \"hire read\" groups are different.\n",
    "\n",
    "The comparison \"intellect listened read\" has a Levene p-value of 0.349462, suggesting that there is not enough evidence to reject the hypothesis that the variances of the \"intellect listened\" and \"intellect read\" groups are different.\n",
    "\n",
    "### Independent t-tests\n",
    "For the variable \"intellect,\" the T-test p-value is 0.001144. This p-value is less than the conventional significance level (e.g., 0.05), suggesting that there is enough evidence to reject the null hypothesis that the means of two independent groups (possibly different conditions or categories) for \"intellect\" are equal.\n",
    "\n",
    "For the variable \"impression,\" the T-test p-value is 0.007091. Similarly, this p-value is less than the conventional significance level, indicating that there is enough evidence to reject the null hypothesis that the means of two independent groups for \"impression\" are equal.\n",
    "\n",
    "For the variable \"hire,\" the T-test p-value is 0.012675. Again, this p-value is less than the conventional significance level, suggesting that there is enough evidence to reject the null hypothesis that the means of two independent groups for \"hire\" are equal.\n",
    "\n",
    "In summary, based on these T-test results, there is statistical evidence to suggest that there are significant differences in means between the groups for \"intellect,\" \"impression,\" and \"hire.\""
   ]
  },
  {
   "cell_type": "code",
   "execution_count": null,
   "metadata": {},
   "outputs": [],
   "source": []
  }
 ],
 "metadata": {
  "colab": {
   "provenance": []
  },
  "kernelspec": {
   "display_name": "Python 3 (ipykernel)",
   "language": "python",
   "name": "python3"
  },
  "language_info": {
   "codemirror_mode": {
    "name": "ipython",
    "version": 3
   },
   "file_extension": ".py",
   "mimetype": "text/x-python",
   "name": "python",
   "nbconvert_exporter": "python",
   "pygments_lexer": "ipython3",
   "version": "3.11.5"
  }
 },
 "nbformat": 4,
 "nbformat_minor": 1
}
